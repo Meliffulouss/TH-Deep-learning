{
 "cells": [
  {
   "cell_type": "markdown",
   "id": "3c01cc5b",
   "metadata": {},
   "source": [
    "# **LAB: Dữ liệu với NumPy, Pandas và Matplotlib**"
   ]
  },
  {
   "cell_type": "markdown",
   "id": "b43e5f00",
   "metadata": {},
   "source": [
    "\n",
    "### **Mục tiêu**\n",
    "- Làm quen với NumPy: Tạo mảng, thao tác cơ bản và nâng cao với mảng.\n",
    "- Thực hành xử lý dữ liệu với Pandas: Đọc, phân tích và làm sạch dữ liệu.\n",
    "- Trực quan hóa dữ liệu bằng Matplotlib: Biểu đồ cơ bản và nâng cao.\n"
   ]
  },
  {
   "cell_type": "markdown",
   "id": "4db747ee",
   "metadata": {},
   "source": [
    "## **Phần 1: NumPy cơ bản**"
   ]
  },
  {
   "cell_type": "markdown",
   "id": "dfebca02",
   "metadata": {},
   "source": [
    "### **Bài tập 1: Tạo mảng và thao tác cơ bản**\n",
    "\n",
    "1 Tạo một mảng NumPy với các giá trị từ 1 đến 20.\\\n",
    "2 Tìm tổng, giá trị lớn nhất, nhỏ nhất và trung bình của mảng.\\\n",
    "3 Tạo một mảng 2D (3x5) chứa các số ngẫu nhiên từ 0 đến 100.\\\n",
    "4 Lấy hàng thứ 2 và cột thứ 3 của mảng 2D."
   ]
  },
  {
   "cell_type": "code",
   "execution_count": 2,
   "id": "e8beb67f",
   "metadata": {},
   "outputs": [
    {
     "name": "stdout",
     "output_type": "stream",
     "text": [
      "Mảng từ 1 đến 20: [ 1  2  3  4  5  6  7  8  9 10 11 12 13 14 15 16 17 18 19 20]\n",
      "Tổng: 210\n",
      "Giá trị lớn nhất: 20\n",
      "Giá trị nhỏ nhất: 1\n",
      "Trung bình: 10.5\n",
      "Mảng 2D: [[66.01025466 37.72831661  8.27519622 63.20829316 71.57846151]\n",
      " [96.96404756 41.58524376 48.18319541 63.73575911 79.31811356]\n",
      " [43.3588022  41.41745241 98.04797442 61.84475853 93.46342703]]\n",
      "Hàng thứ 2: [96.96404756 41.58524376 48.18319541 63.73575911 79.31811356]\n",
      "Cột thứ 3: [ 8.27519622 48.18319541 98.04797442]\n"
     ]
    }
   ],
   "source": [
    "\n",
    "import numpy as np\n",
    "\n",
    "# 1. Tạo một mảng NumPy với các giá trị từ 1 đến 20\n",
    "array_1 =np.array([1, 2, 3, 4, 5,6,7,8,9,10,11,12,13,14,15,16,17,18,19,20])\n",
    "print(\"Mảng từ 1 đến 20:\", array_1)\n",
    "\n",
    "# 2. Tìm tổng, giá trị lớn nhất, nhỏ nhất và trung bình của mảng\n",
    "print(\"Tổng:\",array_1.sum() )\n",
    "print(\"Giá trị lớn nhất:\",array_1.max() )\n",
    "print(\"Giá trị nhỏ nhất:\",array_1.min() )\n",
    "print(\"Trung bình:\",array_1.mean() )\n",
    "\n",
    "# 3. Tạo một mảng 2D (3x5) chứa các số ngẫu nhiên từ 0 đến 100\n",
    "array_2d =np.random.rand(3, 5)*100\n",
    "print(\"Mảng 2D:\", array_2d)\n",
    "\n",
    "# 4. Lấy hàng thứ 2 và cột thứ 3 của mảng 2D\n",
    "print(\"Hàng thứ 2:\", array_2d[1])\n",
    "print(\"Cột thứ 3:\", array_2d[:,2])\n"
   ]
  },
  {
   "cell_type": "markdown",
   "id": "e04ed2c1",
   "metadata": {},
   "source": [
    "### **Bài tập 2: Các thao tác nâng cao**\n",
    "\n",
    "1 Tạo một mảng NumPy chứa 20 giá trị ngẫu nhiên từ 0 đến 1.\\\n",
    "2 Chuẩn hóa mảng này (đưa các giá trị về khoảng [0, 1]).\\\n",
    "3 Tính tích vô hướng (dot product) của hai mảng 1D: [1, 2, 3] và [4, 5,6].\\\n",
    "4 Tạo một ma trận 5x5 và tính định thức (determinant) và nghịch đảo của ma trận."
   ]
  },
  {
   "cell_type": "code",
   "execution_count": 6,
   "id": "8bfb4c61",
   "metadata": {},
   "outputs": [
    {
     "name": "stdout",
     "output_type": "stream",
     "text": [
      "Mảng ngẫu nhiên từ 0 đến 1: [0.27431293 0.65736173 0.26929272 0.75861608 0.3095454  0.55886348\n",
      " 0.32258536 0.57356838 0.37040217 0.21978368 0.19946364 0.65496449\n",
      " 0.90966281 0.22460221 0.45940627 0.58633466 0.26037783 0.93857913\n",
      " 0.7874398  0.23244242]\n",
      "Mảng sau khi chuẩn hóa: [0.10126873 0.61952171 0.09447654 0.75651565 0.14893716 0.48625667\n",
      " 0.16657981 0.50615194 0.23127445 0.02749238 0.         0.61627832\n",
      " 0.96087713 0.03401169 0.3516942  0.52342431 0.08241499 1.\n",
      " 0.79551324 0.04461925]\n",
      "Tích vô hướng của a và b: 32\n",
      "Ma trận: [[0.96571289 0.18908135 0.39065694 0.36832629 0.27146265]\n",
      " [0.3741183  0.45702669 0.28769232 0.89352606 0.2277235 ]\n",
      " [0.45862958 0.70822461 0.46649904 0.64712174 0.98272388]\n",
      " [0.62917349 0.68626566 0.51591007 0.53174528 0.91670944]\n",
      " [0.41916955 0.29739063 0.31442487 0.85838589 0.57362913]]\n",
      "Định thức của ma trận: 0.0029860859129617135\n",
      "Ma trận nghịch đảo: [[  6.35504274  -0.21937879  17.52607622 -17.61094756  -4.8016578 ]\n",
      " [  3.5930022    2.04271995  14.2689538  -12.80505249  -6.49281948]\n",
      " [-16.69483893   0.37069238 -58.17430975  58.02232617  14.69116311]\n",
      " [  0.32771768   0.52967146   1.80501118  -2.62604159   0.73899276]\n",
      " [  2.15400273  -1.89451027   8.98176653  -8.36678158  -0.54041114]]\n"
     ]
    }
   ],
   "source": [
    "\n",
    "# 1. Tạo một mảng NumPy chứa 20 giá trị ngẫu nhiên từ 0 đến 1\n",
    "random_array =np.random.rand(20)\n",
    "print(\"Mảng ngẫu nhiên từ 0 đến 1:\", random_array)\n",
    "\n",
    "# 2. Chuẩn hóa mảng này (đưa các giá trị về khoảng [0, 1])\n",
    "normalized_array = (random_array - random_array.min()) / (random_array.max() - random_array.min())\n",
    "print(\"Mảng sau khi chuẩn hóa:\", normalized_array)\n",
    "\n",
    "# 3. Tính tích vô hướng (dot product) của hai mảng 1D\n",
    "a = np.array([1, 2, 3])\n",
    "b = np.array([4, 5, 6])\n",
    "dot_product = np.dot(a, b)\n",
    "print(\"Tích vô hướng của a và b:\", dot_product)\n",
    "\n",
    "# 4. Tạo một ma trận 5x5 và tính định thức, nghịch đảo\n",
    "matrix = np.random.rand(5, 5)\n",
    "print(\"Ma trận:\", matrix)\n",
    "determinant =  np.linalg.det(matrix)\n",
    "print(\"Định thức của ma trận:\", determinant)\n",
    "if determinant != 0:\n",
    "    inverse_matrix = np.linalg.inv(matrix)\n",
    "    print(\"Ma trận nghịch đảo:\", inverse_matrix)\n",
    "else:\n",
    "    print(\"Ma trận không khả nghịch (định thức = 0).\")\n"
   ]
  },
  {
   "cell_type": "markdown",
   "id": "e33acf59",
   "metadata": {},
   "source": [
    "## **Phần 2: Pandas cơ bản**"
   ]
  },
  {
   "cell_type": "markdown",
   "id": "e2d7aa69",
   "metadata": {},
   "source": [
    "### **Bài tập 3: Làm quen với DataFrame**\n",
    "1 Tạo một DataFrame chứa thông tin sau:\n",
    "| Name    | Age | Score |\n",
    "|---------|-----|-------|\n",
    "| Alice   | 23  | 85    |\n",
    "| Bob     | 25  | 90    |\n",
    "| Charlie | 22  | 78    |\n",
    "| David   | 24  | 92    |\n",
    "| Eva     | 21  | 88    |\n",
    "\n",
    "2 Tính giá trị trung bình của cột \"Score\".\\\n",
    "3 Lọc các hàng có \"Score\" lớn hơn 85."
   ]
  },
  {
   "cell_type": "code",
   "execution_count": 13,
   "id": "e8617a8a",
   "metadata": {},
   "outputs": [
    {
     "name": "stdout",
     "output_type": "stream",
     "text": [
      "DataFrame:       Name  Age  Score\n",
      "0    Alice   23     85\n",
      "1      Bob   25     90\n",
      "2  Charlie   22     78\n",
      "3    David   24     92\n",
      "4      Eva   21     88\n",
      "Điểm trung bình: 86.6\n",
      "Các hàng có Score > 85:     Name  Age  Score\n",
      "1    Bob   25     90\n",
      "3  David   24     92\n",
      "4    Eva   21     88\n"
     ]
    }
   ],
   "source": [
    "\n",
    "import pandas as pd\n",
    "\n",
    "# 1. Tạo DataFrame\n",
    "data = { 'Name': ['Alice', 'Bob', 'Charlie', 'David', 'Eva'],\n",
    "    'Age': [23, 25, 22, 24, 21],\n",
    "    'Score': [85, 90, 78, 92, 88]\n",
    "}\n",
    "df = pd.DataFrame(data)\n",
    "print(\"DataFrame:\", df)\n",
    "\n",
    "# 2. Tính giá trị trung bình của cột \"Score\"\n",
    "average_score = df['Score'].mean()\n",
    "print(\"Điểm trung bình:\", average_score)\n",
    "\n",
    "# 3. Lọc các hàng có \"Score\" lớn hơn 85\n",
    "filtered_df = df[df['Score'] > 85]\n",
    "\n",
    "print(\"Các hàng có Score > 85:\", filtered_df)\n"
   ]
  },
  {
   "cell_type": "markdown",
   "id": "b78fc398",
   "metadata": {},
   "source": [
    "### **Bài tập 4: Đọc và phân tích dữ liệu từ file**\n",
    "\n",
    "1 Tải file Iris.csv từ Kaggle Iris Dataset.\\\n",
    "2 Đọc dữ liệu từ file CSV vào DataFrame.\\\n",
    "3 Hiển thị thông tin cơ bản (tổng quan, kiểu dữ liệu, số lượng null).\\\n",
    "4 Tính trung bình, lớn nhất, nhỏ nhất của cột sepal_length."
   ]
  },
  {
   "cell_type": "code",
   "execution_count": 17,
   "id": "62551ea7",
   "metadata": {},
   "outputs": [
    {
     "name": "stdout",
     "output_type": "stream",
     "text": [
      "<class 'pandas.core.frame.DataFrame'>\n",
      "RangeIndex: 150 entries, 0 to 149\n",
      "Data columns (total 6 columns):\n",
      " #   Column         Non-Null Count  Dtype  \n",
      "---  ------         --------------  -----  \n",
      " 0   Id             150 non-null    int64  \n",
      " 1   SepalLengthCm  150 non-null    float64\n",
      " 2   SepalWidthCm   150 non-null    float64\n",
      " 3   PetalLengthCm  150 non-null    float64\n",
      " 4   PetalWidthCm   150 non-null    float64\n",
      " 5   Species        150 non-null    object \n",
      "dtypes: float64(4), int64(1), object(1)\n",
      "memory usage: 7.2+ KB\n",
      "Thông tin tổng quan về dữ liệu: None\n",
      "Mô tả dữ liệu:                Id  SepalLengthCm  SepalWidthCm  PetalLengthCm  PetalWidthCm\n",
      "count  150.000000     150.000000    150.000000     150.000000    150.000000\n",
      "mean    75.500000       5.843333      3.054000       3.758667      1.198667\n",
      "std     43.445368       0.828066      0.433594       1.764420      0.763161\n",
      "min      1.000000       4.300000      2.000000       1.000000      0.100000\n",
      "25%     38.250000       5.100000      2.800000       1.600000      0.300000\n",
      "50%     75.500000       5.800000      3.000000       4.350000      1.300000\n",
      "75%    112.750000       6.400000      3.300000       5.100000      1.800000\n",
      "max    150.000000       7.900000      4.400000       6.900000      2.500000\n",
      "Trung bình sepal_length:\n",
      "Giá trị lớn nhất sepal_length: <bound method DataFrame.max of       Id  SepalLengthCm  SepalWidthCm  PetalLengthCm  PetalWidthCm  \\\n",
      "0      1            5.1           3.5            1.4           0.2   \n",
      "1      2            4.9           3.0            1.4           0.2   \n",
      "2      3            4.7           3.2            1.3           0.2   \n",
      "3      4            4.6           3.1            1.5           0.2   \n",
      "4      5            5.0           3.6            1.4           0.2   \n",
      "..   ...            ...           ...            ...           ...   \n",
      "145  146            6.7           3.0            5.2           2.3   \n",
      "146  147            6.3           2.5            5.0           1.9   \n",
      "147  148            6.5           3.0            5.2           2.0   \n",
      "148  149            6.2           3.4            5.4           2.3   \n",
      "149  150            5.9           3.0            5.1           1.8   \n",
      "\n",
      "            Species  \n",
      "0       Iris-setosa  \n",
      "1       Iris-setosa  \n",
      "2       Iris-setosa  \n",
      "3       Iris-setosa  \n",
      "4       Iris-setosa  \n",
      "..              ...  \n",
      "145  Iris-virginica  \n",
      "146  Iris-virginica  \n",
      "147  Iris-virginica  \n",
      "148  Iris-virginica  \n",
      "149  Iris-virginica  \n",
      "\n",
      "[150 rows x 6 columns]>\n",
      "Giá trị nhỏ nhất sepal_length: <bound method DataFrame.min of       Id  SepalLengthCm  SepalWidthCm  PetalLengthCm  PetalWidthCm  \\\n",
      "0      1            5.1           3.5            1.4           0.2   \n",
      "1      2            4.9           3.0            1.4           0.2   \n",
      "2      3            4.7           3.2            1.3           0.2   \n",
      "3      4            4.6           3.1            1.5           0.2   \n",
      "4      5            5.0           3.6            1.4           0.2   \n",
      "..   ...            ...           ...            ...           ...   \n",
      "145  146            6.7           3.0            5.2           2.3   \n",
      "146  147            6.3           2.5            5.0           1.9   \n",
      "147  148            6.5           3.0            5.2           2.0   \n",
      "148  149            6.2           3.4            5.4           2.3   \n",
      "149  150            5.9           3.0            5.1           1.8   \n",
      "\n",
      "            Species  \n",
      "0       Iris-setosa  \n",
      "1       Iris-setosa  \n",
      "2       Iris-setosa  \n",
      "3       Iris-setosa  \n",
      "4       Iris-setosa  \n",
      "..              ...  \n",
      "145  Iris-virginica  \n",
      "146  Iris-virginica  \n",
      "147  Iris-virginica  \n",
      "148  Iris-virginica  \n",
      "149  Iris-virginica  \n",
      "\n",
      "[150 rows x 6 columns]>\n"
     ]
    }
   ],
   "source": [
    "\n",
    "# Đọc file CSV\n",
    "iris_df =pd.read_csv(\"Iris.csv\")\n",
    "print(\"Thông tin tổng quan về dữ liệu:\", iris_df.info())\n",
    "print(\"Mô tả dữ liệu:\", iris_df.describe())\n",
    "\n",
    "# Tính toán cơ bản\n",
    "print(\"Trung bình sepal_length:\",)\n",
    "print(\"Giá trị lớn nhất sepal_length:\",iris_df.max)\n",
    "print(\"Giá trị nhỏ nhất sepal_length:\",iris_df.min)\n"
   ]
  },
  {
   "cell_type": "markdown",
   "id": "332f5c1f",
   "metadata": {},
   "source": [
    "## **Phần 3: Làm sạch dữ liệu**"
   ]
  },
  {
   "cell_type": "markdown",
   "id": "967ee936",
   "metadata": {},
   "source": [
    "### **Bài tập 5: Xử lý dữ liệu thiếu**\n",
    "1 Tạo một DataFrame chứa các giá trị sau:\n",
    "\n",
    "| Name    | Age | City     | Salary |\n",
    "|---------|-----|----------|--------|\n",
    "| Alice   | 23  | New York | 60000  |\n",
    "| Bob     | NaN | Boston   | 52000  |\n",
    "| Charlie | 25  | NaN      | NaN    |\n",
    "| David   | 24  | Chicago  | 58000  |\n",
    "| Eva     | 22  | Boston   | NaN    |\n",
    "\n",
    "2 Điền giá trị thiếu trong cột Age bằng giá trị trung bình.\\\n",
    "3 Xóa các hàng có nhiều hơn 1 giá trị thiếu.\\\n",
    "4 Điền giá trị thiếu trong cột Salary bằng 50000."
   ]
  },
  {
   "cell_type": "code",
   "execution_count": 18,
   "id": "e4582e08",
   "metadata": {},
   "outputs": [
    {
     "name": "stdout",
     "output_type": "stream",
     "text": [
      "Dữ liệu ban đầu:       Name   Age      City   Salary\n",
      "0    Alice  23.0  New York  60000.0\n",
      "1      Bob   NaN    Boston  52000.0\n",
      "2  Charlie  25.0      None      NaN\n",
      "3    David  24.0   Chicago  58000.0\n",
      "4      Eva  22.0    Boston      NaN\n",
      "\n",
      "Sau khi điền thiếu ở Age:\n",
      "      Name   Age      City   Salary\n",
      "0    Alice  23.0  New York  60000.0\n",
      "1      Bob  23.5    Boston  52000.0\n",
      "2  Charlie  25.0      None      NaN\n",
      "3    David  24.0   Chicago  58000.0\n",
      "4      Eva  22.0    Boston      NaN\n",
      "\n",
      "Sau khi xóa hàng thiếu nhiều hơn 1 cột:\n",
      "    Name   Age      City   Salary\n",
      "0  Alice  23.0  New York  60000.0\n",
      "1    Bob  23.5    Boston  52000.0\n",
      "3  David  24.0   Chicago  58000.0\n",
      "4    Eva  22.0    Boston      NaN\n",
      "\n",
      "Sau khi điền thiếu ở Salary:\n",
      "    Name   Age      City   Salary\n",
      "0  Alice  23.0  New York  60000.0\n",
      "1    Bob  23.5    Boston  52000.0\n",
      "3  David  24.0   Chicago  58000.0\n",
      "4    Eva  22.0    Boston  50000.0\n"
     ]
    },
    {
     "name": "stderr",
     "output_type": "stream",
     "text": [
      "C:\\Users\\Admin\\AppData\\Local\\Temp\\ipykernel_18472\\3225514136.py:12: FutureWarning: A value is trying to be set on a copy of a DataFrame or Series through chained assignment using an inplace method.\n",
      "The behavior will change in pandas 3.0. This inplace method will never work because the intermediate object on which we are setting values always behaves as a copy.\n",
      "\n",
      "For example, when doing 'df[col].method(value, inplace=True)', try using 'df.method({col: value}, inplace=True)' or df[col] = df[col].method(value) instead, to perform the operation inplace on the original object.\n",
      "\n",
      "\n",
      "  df_missing[\"Age\"].fillna(df_missing[\"Age\"].mean(), inplace=True)\n",
      "C:\\Users\\Admin\\AppData\\Local\\Temp\\ipykernel_18472\\3225514136.py:22: FutureWarning: A value is trying to be set on a copy of a DataFrame or Series through chained assignment using an inplace method.\n",
      "The behavior will change in pandas 3.0. This inplace method will never work because the intermediate object on which we are setting values always behaves as a copy.\n",
      "\n",
      "For example, when doing 'df[col].method(value, inplace=True)', try using 'df.method({col: value}, inplace=True)' or df[col] = df[col].method(value) instead, to perform the operation inplace on the original object.\n",
      "\n",
      "\n",
      "  df_missing[\"Salary\"].fillna(50000, inplace=True)\n"
     ]
    }
   ],
   "source": [
    "\n",
    "# Tạo DataFrame chứa dữ liệu thiếu\n",
    "data_with_missing = {\n",
    "    \"Name\": [\"Alice\", \"Bob\", \"Charlie\", \"David\", \"Eva\"],\n",
    "    \"Age\": [23.0, np.nan, 25.0, 24.0, 22.0],\n",
    "    \"City\": [\"New York\", \"Boston\", None, \"Chicago\", \"Boston\"],\n",
    "    \"Salary\": [60000.0, 52000.0, np.nan, 58000.0, np.nan],\n",
    "}\n",
    "df_missing = pd.DataFrame(data_with_missing)\n",
    "print(\"Dữ liệu ban đầu:\", df_missing)\n",
    "\n",
    "# 1. Điền giá trị thiếu trong cột Age bằng giá trị trung bình\n",
    "df_missing[\"Age\"].fillna(df_missing[\"Age\"].mean(), inplace=True)\n",
    "print(\"\\nSau khi điền thiếu ở Age:\")\n",
    "print(df_missing)\n",
    "\n",
    "# 2. Xóa các hàng có nhiều hơn 1 giá trị thiếu\n",
    "df_missing = df_missing.dropna(thresh=len(df_missing.columns) - 1)\n",
    "print(\"\\nSau khi xóa hàng thiếu nhiều hơn 1 cột:\")\n",
    "print(df_missing)   \n",
    "\n",
    "# 3. Điền giá trị thiếu trong cột Salary bằng 50000\n",
    "df_missing[\"Salary\"].fillna(50000, inplace=True)\n",
    "print(\"\\nSau khi điền thiếu ở Salary:\")\n",
    "print(df_missing)\n"
   ]
  },
  {
   "cell_type": "markdown",
   "id": "b386c09b",
   "metadata": {},
   "source": [
    "## **Phần 4: Trực quan hóa dữ liệu với Matplotlib**"
   ]
  },
  {
   "cell_type": "markdown",
   "id": "badc99ed",
   "metadata": {},
   "source": [
    "### **Bài tập 6: Biểu đồ cơ bản**\n",
    "\n",
    "1 Tạo một biểu đồ đường biểu diễn hàm số y = x ** 2 trên khoảng [-10,10] \\\n",
    "2 Vẽ biểu đồ cột thể hiện điểm số (Score) của các sinh viên từ Bài tập 3.\\\n",
    "3 Tạo một biểu đồ tròn (pie chart) thể hiện phần trăm mỗi loại hoa trong tập dữ liệu Iris."
   ]
  },
  {
   "cell_type": "code",
   "execution_count": 4,
   "id": "2de20551",
   "metadata": {},
   "outputs": [
    {
     "data": {
      "image/png": "[encoded data removed]",
      "text/plain": [
       "<Figure size 800x500 with 1 Axes>"
      ]
     },
     "metadata": {},
     "output_type": "display_data"
    },
    {
     "data": {
      "image/png": "[encoded data removed]",
      "text/plain": [
       "<Figure size 800x500 with 1 Axes>"
      ]
     },
     "metadata": {},
     "output_type": "display_data"
    },
    {
     "ename": "FileNotFoundError",
     "evalue": "[Errno 2] No such file or directory: 'Iris.csv'",
     "output_type": "error",
     "traceback": [
      "\u001b[1;31m---------------------------------------------------------------------------\u001b[0m",
      "\u001b[1;31mFileNotFoundError\u001b[0m                         Traceback (most recent call last)",
      "Cell \u001b[1;32mIn[4], line 39\u001b[0m\n\u001b[0;32m     34\u001b[0m plt\u001b[38;5;241m.\u001b[39mshow()\n\u001b[0;32m     37\u001b[0m \u001b[38;5;66;03m# 3. Biểu đồ tròn thể hiện phần trăm mỗi loại hoa trong tập dữ liệu Iris\u001b[39;00m\n\u001b[0;32m     38\u001b[0m \u001b[38;5;66;03m# Đọc dữ liệu Iris từ file CSV\u001b[39;00m\n\u001b[1;32m---> 39\u001b[0m iris_df \u001b[38;5;241m=\u001b[39m \u001b[43mpd\u001b[49m\u001b[38;5;241;43m.\u001b[39;49m\u001b[43mread_csv\u001b[49m\u001b[43m(\u001b[49m\u001b[38;5;124;43m\"\u001b[39;49m\u001b[38;5;124;43mIris.csv\u001b[39;49m\u001b[38;5;124;43m\"\u001b[39;49m\u001b[43m)\u001b[49m\n\u001b[0;32m     41\u001b[0m \u001b[38;5;66;03m# Tính số lượng mỗi loại hoa\u001b[39;00m\n\u001b[0;32m     42\u001b[0m species_counts \u001b[38;5;241m=\u001b[39m iris_df[\u001b[38;5;124m\"\u001b[39m\u001b[38;5;124mSpecies\u001b[39m\u001b[38;5;124m\"\u001b[39m]\u001b[38;5;241m.\u001b[39mvalue_counts()\n",
      "File \u001b[1;32mc:\\Users\\Admin\\AppData\\Local\\Programs\\Python\\Python311\\Lib\\site-packages\\pandas\\io\\parsers\\readers.py:1026\u001b[0m, in \u001b[0;36mread_csv\u001b[1;34m(filepath_or_buffer, sep, delimiter, header, names, index_col, usecols, dtype, engine, converters, true_values, false_values, skipinitialspace, skiprows, skipfooter, nrows, na_values, keep_default_na, na_filter, verbose, skip_blank_lines, parse_dates, infer_datetime_format, keep_date_col, date_parser, date_format, dayfirst, cache_dates, iterator, chunksize, compression, thousands, decimal, lineterminator, quotechar, quoting, doublequote, escapechar, comment, encoding, encoding_errors, dialect, on_bad_lines, delim_whitespace, low_memory, memory_map, float_precision, storage_options, dtype_backend)\u001b[0m\n\u001b[0;32m   1013\u001b[0m kwds_defaults \u001b[38;5;241m=\u001b[39m _refine_defaults_read(\n\u001b[0;32m   1014\u001b[0m     dialect,\n\u001b[0;32m   1015\u001b[0m     delimiter,\n\u001b[1;32m   (...)\u001b[0m\n\u001b[0;32m   1022\u001b[0m     dtype_backend\u001b[38;5;241m=\u001b[39mdtype_backend,\n\u001b[0;32m   1023\u001b[0m )\n\u001b[0;32m   1024\u001b[0m kwds\u001b[38;5;241m.\u001b[39mupdate(kwds_defaults)\n\u001b[1;32m-> 1026\u001b[0m \u001b[38;5;28;01mreturn\u001b[39;00m \u001b[43m_read\u001b[49m\u001b[43m(\u001b[49m\u001b[43mfilepath_or_buffer\u001b[49m\u001b[43m,\u001b[49m\u001b[43m \u001b[49m\u001b[43mkwds\u001b[49m\u001b[43m)\u001b[49m\n",
      "File \u001b[1;32mc:\\Users\\Admin\\AppData\\Local\\Programs\\Python\\Python311\\Lib\\site-packages\\pandas\\io\\parsers\\readers.py:620\u001b[0m, in \u001b[0;36m_read\u001b[1;34m(filepath_or_buffer, kwds)\u001b[0m\n\u001b[0;32m    617\u001b[0m _validate_names(kwds\u001b[38;5;241m.\u001b[39mget(\u001b[38;5;124m\"\u001b[39m\u001b[38;5;124mnames\u001b[39m\u001b[38;5;124m\"\u001b[39m, \u001b[38;5;28;01mNone\u001b[39;00m))\n\u001b[0;32m    619\u001b[0m \u001b[38;5;66;03m# Create the parser.\u001b[39;00m\n\u001b[1;32m--> 620\u001b[0m parser \u001b[38;5;241m=\u001b[39m \u001b[43mTextFileReader\u001b[49m\u001b[43m(\u001b[49m\u001b[43mfilepath_or_buffer\u001b[49m\u001b[43m,\u001b[49m\u001b[43m \u001b[49m\u001b[38;5;241;43m*\u001b[39;49m\u001b[38;5;241;43m*\u001b[39;49m\u001b[43mkwds\u001b[49m\u001b[43m)\u001b[49m\n\u001b[0;32m    622\u001b[0m \u001b[38;5;28;01mif\u001b[39;00m chunksize \u001b[38;5;129;01mor\u001b[39;00m iterator:\n\u001b[0;32m    623\u001b[0m     \u001b[38;5;28;01mreturn\u001b[39;00m parser\n",
      "File \u001b[1;32mc:\\Users\\Admin\\AppData\\Local\\Programs\\Python\\Python311\\Lib\\site-packages\\pandas\\io\\parsers\\readers.py:1620\u001b[0m, in \u001b[0;36mTextFileReader.__init__\u001b[1;34m(self, f, engine, **kwds)\u001b[0m\n\u001b[0;32m   1617\u001b[0m     \u001b[38;5;28mself\u001b[39m\u001b[38;5;241m.\u001b[39moptions[\u001b[38;5;124m\"\u001b[39m\u001b[38;5;124mhas_index_names\u001b[39m\u001b[38;5;124m\"\u001b[39m] \u001b[38;5;241m=\u001b[39m kwds[\u001b[38;5;124m\"\u001b[39m\u001b[38;5;124mhas_index_names\u001b[39m\u001b[38;5;124m\"\u001b[39m]\n\u001b[0;32m   1619\u001b[0m \u001b[38;5;28mself\u001b[39m\u001b[38;5;241m.\u001b[39mhandles: IOHandles \u001b[38;5;241m|\u001b[39m \u001b[38;5;28;01mNone\u001b[39;00m \u001b[38;5;241m=\u001b[39m \u001b[38;5;28;01mNone\u001b[39;00m\n\u001b[1;32m-> 1620\u001b[0m \u001b[38;5;28mself\u001b[39m\u001b[38;5;241m.\u001b[39m_engine \u001b[38;5;241m=\u001b[39m \u001b[38;5;28;43mself\u001b[39;49m\u001b[38;5;241;43m.\u001b[39;49m\u001b[43m_make_engine\u001b[49m\u001b[43m(\u001b[49m\u001b[43mf\u001b[49m\u001b[43m,\u001b[49m\u001b[43m \u001b[49m\u001b[38;5;28;43mself\u001b[39;49m\u001b[38;5;241;43m.\u001b[39;49m\u001b[43mengine\u001b[49m\u001b[43m)\u001b[49m\n",
      "File \u001b[1;32mc:\\Users\\Admin\\AppData\\Local\\Programs\\Python\\Python311\\Lib\\site-packages\\pandas\\io\\parsers\\readers.py:1880\u001b[0m, in \u001b[0;36mTextFileReader._make_engine\u001b[1;34m(self, f, engine)\u001b[0m\n\u001b[0;32m   1878\u001b[0m     \u001b[38;5;28;01mif\u001b[39;00m \u001b[38;5;124m\"\u001b[39m\u001b[38;5;124mb\u001b[39m\u001b[38;5;124m\"\u001b[39m \u001b[38;5;129;01mnot\u001b[39;00m \u001b[38;5;129;01min\u001b[39;00m mode:\n\u001b[0;32m   1879\u001b[0m         mode \u001b[38;5;241m+\u001b[39m\u001b[38;5;241m=\u001b[39m \u001b[38;5;124m\"\u001b[39m\u001b[38;5;124mb\u001b[39m\u001b[38;5;124m\"\u001b[39m\n\u001b[1;32m-> 1880\u001b[0m \u001b[38;5;28mself\u001b[39m\u001b[38;5;241m.\u001b[39mhandles \u001b[38;5;241m=\u001b[39m \u001b[43mget_handle\u001b[49m\u001b[43m(\u001b[49m\n\u001b[0;32m   1881\u001b[0m \u001b[43m    \u001b[49m\u001b[43mf\u001b[49m\u001b[43m,\u001b[49m\n\u001b[0;32m   1882\u001b[0m \u001b[43m    \u001b[49m\u001b[43mmode\u001b[49m\u001b[43m,\u001b[49m\n\u001b[0;32m   1883\u001b[0m \u001b[43m    \u001b[49m\u001b[43mencoding\u001b[49m\u001b[38;5;241;43m=\u001b[39;49m\u001b[38;5;28;43mself\u001b[39;49m\u001b[38;5;241;43m.\u001b[39;49m\u001b[43moptions\u001b[49m\u001b[38;5;241;43m.\u001b[39;49m\u001b[43mget\u001b[49m\u001b[43m(\u001b[49m\u001b[38;5;124;43m\"\u001b[39;49m\u001b[38;5;124;43mencoding\u001b[39;49m\u001b[38;5;124;43m\"\u001b[39;49m\u001b[43m,\u001b[49m\u001b[43m \u001b[49m\u001b[38;5;28;43;01mNone\u001b[39;49;00m\u001b[43m)\u001b[49m\u001b[43m,\u001b[49m\n\u001b[0;32m   1884\u001b[0m \u001b[43m    \u001b[49m\u001b[43mcompression\u001b[49m\u001b[38;5;241;43m=\u001b[39;49m\u001b[38;5;28;43mself\u001b[39;49m\u001b[38;5;241;43m.\u001b[39;49m\u001b[43moptions\u001b[49m\u001b[38;5;241;43m.\u001b[39;49m\u001b[43mget\u001b[49m\u001b[43m(\u001b[49m\u001b[38;5;124;43m\"\u001b[39;49m\u001b[38;5;124;43mcompression\u001b[39;49m\u001b[38;5;124;43m\"\u001b[39;49m\u001b[43m,\u001b[49m\u001b[43m \u001b[49m\u001b[38;5;28;43;01mNone\u001b[39;49;00m\u001b[43m)\u001b[49m\u001b[43m,\u001b[49m\n\u001b[0;32m   1885\u001b[0m \u001b[43m    \u001b[49m\u001b[43mmemory_map\u001b[49m\u001b[38;5;241;43m=\u001b[39;49m\u001b[38;5;28;43mself\u001b[39;49m\u001b[38;5;241;43m.\u001b[39;49m\u001b[43moptions\u001b[49m\u001b[38;5;241;43m.\u001b[39;49m\u001b[43mget\u001b[49m\u001b[43m(\u001b[49m\u001b[38;5;124;43m\"\u001b[39;49m\u001b[38;5;124;43mmemory_map\u001b[39;49m\u001b[38;5;124;43m\"\u001b[39;49m\u001b[43m,\u001b[49m\u001b[43m \u001b[49m\u001b[38;5;28;43;01mFalse\u001b[39;49;00m\u001b[43m)\u001b[49m\u001b[43m,\u001b[49m\n\u001b[0;32m   1886\u001b[0m \u001b[43m    \u001b[49m\u001b[43mis_text\u001b[49m\u001b[38;5;241;43m=\u001b[39;49m\u001b[43mis_text\u001b[49m\u001b[43m,\u001b[49m\n\u001b[0;32m   1887\u001b[0m \u001b[43m    \u001b[49m\u001b[43merrors\u001b[49m\u001b[38;5;241;43m=\u001b[39;49m\u001b[38;5;28;43mself\u001b[39;49m\u001b[38;5;241;43m.\u001b[39;49m\u001b[43moptions\u001b[49m\u001b[38;5;241;43m.\u001b[39;49m\u001b[43mget\u001b[49m\u001b[43m(\u001b[49m\u001b[38;5;124;43m\"\u001b[39;49m\u001b[38;5;124;43mencoding_errors\u001b[39;49m\u001b[38;5;124;43m\"\u001b[39;49m\u001b[43m,\u001b[49m\u001b[43m \u001b[49m\u001b[38;5;124;43m\"\u001b[39;49m\u001b[38;5;124;43mstrict\u001b[39;49m\u001b[38;5;124;43m\"\u001b[39;49m\u001b[43m)\u001b[49m\u001b[43m,\u001b[49m\n\u001b[0;32m   1888\u001b[0m \u001b[43m    \u001b[49m\u001b[43mstorage_options\u001b[49m\u001b[38;5;241;43m=\u001b[39;49m\u001b[38;5;28;43mself\u001b[39;49m\u001b[38;5;241;43m.\u001b[39;49m\u001b[43moptions\u001b[49m\u001b[38;5;241;43m.\u001b[39;49m\u001b[43mget\u001b[49m\u001b[43m(\u001b[49m\u001b[38;5;124;43m\"\u001b[39;49m\u001b[38;5;124;43mstorage_options\u001b[39;49m\u001b[38;5;124;43m\"\u001b[39;49m\u001b[43m,\u001b[49m\u001b[43m \u001b[49m\u001b[38;5;28;43;01mNone\u001b[39;49;00m\u001b[43m)\u001b[49m\u001b[43m,\u001b[49m\n\u001b[0;32m   1889\u001b[0m \u001b[43m\u001b[49m\u001b[43m)\u001b[49m\n\u001b[0;32m   1890\u001b[0m \u001b[38;5;28;01massert\u001b[39;00m \u001b[38;5;28mself\u001b[39m\u001b[38;5;241m.\u001b[39mhandles \u001b[38;5;129;01mis\u001b[39;00m \u001b[38;5;129;01mnot\u001b[39;00m \u001b[38;5;28;01mNone\u001b[39;00m\n\u001b[0;32m   1891\u001b[0m f \u001b[38;5;241m=\u001b[39m \u001b[38;5;28mself\u001b[39m\u001b[38;5;241m.\u001b[39mhandles\u001b[38;5;241m.\u001b[39mhandle\n",
      "File \u001b[1;32mc:\\Users\\Admin\\AppData\\Local\\Programs\\Python\\Python311\\Lib\\site-packages\\pandas\\io\\common.py:873\u001b[0m, in \u001b[0;36mget_handle\u001b[1;34m(path_or_buf, mode, encoding, compression, memory_map, is_text, errors, storage_options)\u001b[0m\n\u001b[0;32m    868\u001b[0m \u001b[38;5;28;01melif\u001b[39;00m \u001b[38;5;28misinstance\u001b[39m(handle, \u001b[38;5;28mstr\u001b[39m):\n\u001b[0;32m    869\u001b[0m     \u001b[38;5;66;03m# Check whether the filename is to be opened in binary mode.\u001b[39;00m\n\u001b[0;32m    870\u001b[0m     \u001b[38;5;66;03m# Binary mode does not support 'encoding' and 'newline'.\u001b[39;00m\n\u001b[0;32m    871\u001b[0m     \u001b[38;5;28;01mif\u001b[39;00m ioargs\u001b[38;5;241m.\u001b[39mencoding \u001b[38;5;129;01mand\u001b[39;00m \u001b[38;5;124m\"\u001b[39m\u001b[38;5;124mb\u001b[39m\u001b[38;5;124m\"\u001b[39m \u001b[38;5;129;01mnot\u001b[39;00m \u001b[38;5;129;01min\u001b[39;00m ioargs\u001b[38;5;241m.\u001b[39mmode:\n\u001b[0;32m    872\u001b[0m         \u001b[38;5;66;03m# Encoding\u001b[39;00m\n\u001b[1;32m--> 873\u001b[0m         handle \u001b[38;5;241m=\u001b[39m \u001b[38;5;28;43mopen\u001b[39;49m\u001b[43m(\u001b[49m\n\u001b[0;32m    874\u001b[0m \u001b[43m            \u001b[49m\u001b[43mhandle\u001b[49m\u001b[43m,\u001b[49m\n\u001b[0;32m    875\u001b[0m \u001b[43m            \u001b[49m\u001b[43mioargs\u001b[49m\u001b[38;5;241;43m.\u001b[39;49m\u001b[43mmode\u001b[49m\u001b[43m,\u001b[49m\n\u001b[0;32m    876\u001b[0m \u001b[43m            \u001b[49m\u001b[43mencoding\u001b[49m\u001b[38;5;241;43m=\u001b[39;49m\u001b[43mioargs\u001b[49m\u001b[38;5;241;43m.\u001b[39;49m\u001b[43mencoding\u001b[49m\u001b[43m,\u001b[49m\n\u001b[0;32m    877\u001b[0m \u001b[43m            \u001b[49m\u001b[43merrors\u001b[49m\u001b[38;5;241;43m=\u001b[39;49m\u001b[43merrors\u001b[49m\u001b[43m,\u001b[49m\n\u001b[0;32m    878\u001b[0m \u001b[43m            \u001b[49m\u001b[43mnewline\u001b[49m\u001b[38;5;241;43m=\u001b[39;49m\u001b[38;5;124;43m\"\u001b[39;49m\u001b[38;5;124;43m\"\u001b[39;49m\u001b[43m,\u001b[49m\n\u001b[0;32m    879\u001b[0m \u001b[43m        \u001b[49m\u001b[43m)\u001b[49m\n\u001b[0;32m    880\u001b[0m     \u001b[38;5;28;01melse\u001b[39;00m:\n\u001b[0;32m    881\u001b[0m         \u001b[38;5;66;03m# Binary mode\u001b[39;00m\n\u001b[0;32m    882\u001b[0m         handle \u001b[38;5;241m=\u001b[39m \u001b[38;5;28mopen\u001b[39m(handle, ioargs\u001b[38;5;241m.\u001b[39mmode)\n",
      "\u001b[1;31mFileNotFoundError\u001b[0m: [Errno 2] No such file or directory: 'Iris.csv'"
     ]
    }
   ],
   "source": [
    "import pandas as pd\n",
    "import matplotlib.pyplot as plt\n",
    "import numpy as np\n",
    "\n",
    "# 1. Biểu đồ đường hàm số y = x^2\n",
    "x = np.linspace(-10, 10, 100)  # Tạo các giá trị x từ -10 đến 10\n",
    "y = x ** 2  # Hàm số y = x^2\n",
    "\n",
    "plt.figure(figsize=(8, 5))  # Tạo khung biểu đồ\n",
    "plt.plot(x, y, label=\"y = x^2\", color=\"blue\", linestyle=\"-\", linewidth=2)\n",
    "plt.title(\"Biểu đồ đường của hàm số y = x^2\")\n",
    "plt.xlabel(\"x\")\n",
    "plt.ylabel(\"y\")\n",
    "plt.axhline(0, color=\"black\", linewidth=0.5)  # Đường ngang tại y = 0\n",
    "plt.axvline(0, color=\"black\", linewidth=0.5)  # Đường dọc tại x = 0\n",
    "plt.grid(alpha=0.3)\n",
    "plt.legend()\n",
    "plt.show()\n",
    "\n",
    "# 2. Biểu đồ cột điểm số\n",
    "students_scores ={ 'Name': ['Alice', 'Bob', 'Charlie', 'David', 'Eva'],\n",
    "    'Age': [23, 25, 22, 24, 21],\n",
    "    'Score': [85, 90, 78, 92, 88]\n",
    "}\n",
    "df_scores = pd.DataFrame(students_scores)\n",
    "\n",
    "plt.figure(figsize=(8, 5))\n",
    "plt.bar(df_scores[\"Name\"], df_scores[\"Score\"], color=\"skyblue\")\n",
    "plt.title(\"Biểu đồ cột điểm số của sinh viên\")\n",
    "plt.xlabel(\"Sinh viên\")\n",
    "plt.ylabel(\"Điểm số\")\n",
    "plt.ylim(0, 100)  # Đặt giới hạn cho trục y\n",
    "plt.grid(axis=\"y\", alpha=0.3)\n",
    "plt.show()\n",
    "\n",
    "\n",
    "# 3. Biểu đồ tròn thể hiện phần trăm mỗi loại hoa trong tập dữ liệu Iris\n",
    "# Đọc dữ liệu Iris từ file CSV\n",
    "iris_df = pd.read_csv(\"Iris.csv\")\n",
    "\n",
    "# Tính số lượng mỗi loại hoa\n",
    "species_counts = iris_df[\"Species\"].value_counts()\n",
    "\n",
    "plt.figure(figsize=(8, 8))\n",
    "plt.pie(species_counts, labels=species_counts.index, autopct='%1.1f%%', colors=[\"lightcoral\", \"gold\", \"lightskyblue\"])\n",
    "plt.title(\"Biểu đồ tròn phần trăm mỗi loại hoa trong tập Iris\")\n",
    "plt.show()"
   ]
  },
  {
   "cell_type": "markdown",
   "id": "2a472a75",
   "metadata": {},
   "source": [
    "### **Bài tập 7: Biểu đồ nâng cao**\n",
    "\n",
    "    1 Vẽ biểu đồ phân tán (scatter plot) giữa sepal_length và sepal_width của tập dữ liệu Iris. Dùng màu sắc để phân biệt các loại hoa (species).\\\n",
    "    2 Thêm tiêu đề, nhãn trục và chú thích cho biểu đồ."
   ]
  },
  {
   "cell_type": "code",
   "execution_count": 36,
   "id": "003e508e",
   "metadata": {},
   "outputs": [
    {
     "ename": "ModuleNotFoundError",
     "evalue": "No module named 'seaborn'",
     "output_type": "error",
     "traceback": [
      "\u001b[1;31m---------------------------------------------------------------------------\u001b[0m",
      "\u001b[1;31mModuleNotFoundError\u001b[0m                       Traceback (most recent call last)",
      "Cell \u001b[1;32mIn[36], line 3\u001b[0m\n\u001b[0;32m      1\u001b[0m \u001b[38;5;66;03m# 1. Biểu đồ phân tán với màu sắc theo loại hoa\u001b[39;00m\n\u001b[0;32m      2\u001b[0m \u001b[38;5;28;01mimport\u001b[39;00m\u001b[38;5;250m \u001b[39m\u001b[38;5;21;01mmatplotlib\u001b[39;00m\u001b[38;5;21;01m.\u001b[39;00m\u001b[38;5;21;01mpyplot\u001b[39;00m\u001b[38;5;250m \u001b[39m\u001b[38;5;28;01mas\u001b[39;00m\u001b[38;5;250m \u001b[39m\u001b[38;5;21;01mplt\u001b[39;00m\n\u001b[1;32m----> 3\u001b[0m \u001b[38;5;28;01mimport\u001b[39;00m\u001b[38;5;250m \u001b[39m\u001b[38;5;21;01mseaborn\u001b[39;00m\u001b[38;5;250m \u001b[39m\u001b[38;5;28;01mas\u001b[39;00m\u001b[38;5;250m \u001b[39m\u001b[38;5;21;01msns\u001b[39;00m\n\u001b[0;32m      5\u001b[0m \u001b[38;5;66;03m# 1. Vẽ biểu đồ phân tán giữa sepal_length và sepal_width, phân biệt theo species\u001b[39;00m\n\u001b[0;32m      6\u001b[0m plt\u001b[38;5;241m.\u001b[39mfigure(figsize\u001b[38;5;241m=\u001b[39m(\u001b[38;5;241m10\u001b[39m, \u001b[38;5;241m6\u001b[39m))\n",
      "\u001b[1;31mModuleNotFoundError\u001b[0m: No module named 'seaborn'"
     ]
    }
   ],
   "source": [
    "\n",
    "# 1. Biểu đồ phân tán với màu sắc theo loại hoa\n",
    "import matplotlib.pyplot as plt\n",
    "import seaborn as sns\n",
    "\n",
    "# 1. Vẽ biểu đồ phân tán giữa sepal_length và sepal_width, phân biệt theo species\n",
    "plt.figure(figsize=(10, 6))\n",
    "sns.scatterplot(\n",
    "    data=iris_df,\n",
    "    x=\"SepalLengthCm\",\n",
    "    y=\"SepalWidthCm\",\n",
    "    hue=\"Species\",\n",
    "    palette=\"Set2\",\n",
    "    s=100\n",
    ")\n",
    "\n",
    "# 2. Thêm tiêu đề, nhãn trục và chú thích\n",
    "plt.title(\"Biểu đồ phân tán giữa Sepal Length và Sepal Width\", fontsize=14)\n",
    "plt.xlabel(\"Sepal Length (cm)\", fontsize=12)\n",
    "plt.ylabel(\"Sepal Width (cm)\", fontsize=12)\n",
    "plt.legend(title=\"Loại hoa\", loc=\"upper right\", fontsize=10)\n",
    "plt.grid(alpha=0.3)\n",
    "\n",
    "# Hiển thị biểu đồ\n",
    "plt.show()\n"
   ]
  }
 ],
 "metadata": {
  "kernelspec": {
   "display_name": "Python 3",
   "language": "python",
   "name": "python3"
  },
  "language_info": {
   "codemirror_mode": {
    "name": "ipython",
    "version": 3
   },
   "file_extension": ".py",
   "mimetype": "text/x-python",
   "name": "python",
   "nbconvert_exporter": "python",
   "pygments_lexer": "ipython3",
   "version": "3.11.0"
  },
  "vscode": {
   "interpreter": {
    "hash": "11938c6bc6919ae2720b4d5011047913343b08a43b18698fd82dedb0d4417594"
   }
  }
 },
 "nbformat": 4,
 "nbformat_minor": 5
}
